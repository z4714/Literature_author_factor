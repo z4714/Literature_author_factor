{
 "cells": [
  {
   "cell_type": "code",
   "execution_count": 57,
   "id": "8bbccf79-90dd-4919-884c-6ebd7ec02aeb",
   "metadata": {},
   "outputs": [],
   "source": [
    "import re \n",
    "from collections import defaultdict\n",
    "import pandas as pd"
   ]
  },
  {
   "cell_type": "code",
   "execution_count": 58,
   "id": "59f24553-d0ba-4642-a4a2-784d4297ea20",
   "metadata": {},
   "outputs": [],
   "source": [
    "\n",
    "cot = 0"
   ]
  },
  {
   "cell_type": "code",
   "execution_count": 59,
   "id": "7a742188-f75b-4459-92e3-f9e1d6231375",
   "metadata": {},
   "outputs": [],
   "source": [
    "def LAF(address_str):\n",
    "    global cot\n",
    "    cot += 1\n",
    "    aip = re.findall(r'\\[([^\\]]+)\\] ([^;]+);?', address_str)\n",
    "    \n",
    "    total_a = defaultdict(lambda: defaultdict(int))\n",
    "    \n",
    "    for authors,i in aip:\n",
    "        \n",
    "        a_list = authors.split(';')\n",
    "        \n",
    "        for a_name in a_list:\n",
    "            total_a[a_name]['total'] += 1\n",
    "          \n",
    "            if 'Peoples R China' in i:\n",
    "                total_a[a_name]['ch'] += 1\n",
    "                \n",
    "        \n",
    "    if not total_a: \n",
    "        print(cot)\n",
    "        return -1\n",
    "               \n",
    "\n",
    "    df = 1/len(total_a)            \n",
    "    \n",
    "        \n",
    "    f = sum(total_a[name]['ch']*(df/total_a[name]['total']) for name in total_a)\n",
    "    \n",
    "    return f"
   ]
  },
  {
   "cell_type": "code",
   "execution_count": 60,
   "id": "f1825331-cb9b-4eb6-af58-a1bc069a61df",
   "metadata": {},
   "outputs": [],
   "source": [
    "file_path = './datasets/2021-文献条目总表计算表-1.xlsx'\n",
    "df = pd.read_excel(file_path)"
   ]
  },
  {
   "cell_type": "code",
   "execution_count": 61,
   "id": "d288aaee-3477-473c-ae3b-045377eec35a",
   "metadata": {
    "tags": []
   },
   "outputs": [
    {
     "name": "stdout",
     "output_type": "stream",
     "text": [
      "284\n",
      "1060\n",
      "1629\n",
      "1718\n",
      "1767\n",
      "1771\n",
      "2425\n",
      "3039\n",
      "4545\n"
     ]
    }
   ],
   "source": [
    "result = df['Addresses'].apply(lambda x: LAF(x))\n",
    "result_df = pd.DataFrame(result.tolist(),columns=['Factor'])"
   ]
  },
  {
   "cell_type": "code",
   "execution_count": 62,
   "id": "09dbbc42-3728-48d7-a910-63b227d3097b",
   "metadata": {},
   "outputs": [
    {
     "name": "stdout",
     "output_type": "stream",
     "text": [
      "        Factor\n",
      "0     1.000000\n",
      "1     1.000000\n",
      "2     1.000000\n",
      "3     0.857143\n",
      "4     1.000000\n",
      "...        ...\n",
      "4721  0.250000\n",
      "4722  0.111111\n",
      "4723  0.058824\n",
      "4724  0.024390\n",
      "4725  0.050000\n",
      "\n",
      "[4726 rows x 1 columns]\n"
     ]
    }
   ],
   "source": [
    "print(result_df)"
   ]
  },
  {
   "cell_type": "code",
   "execution_count": null,
   "id": "e783a1ca-e843-4b80-8d46-110ff38d6e77",
   "metadata": {},
   "outputs": [],
   "source": []
  }
 ],
 "metadata": {
  "kernelspec": {
   "display_name": "Python 3 (ipykernel)",
   "language": "python",
   "name": "python3"
  },
  "language_info": {
   "codemirror_mode": {
    "name": "ipython",
    "version": 3
   },
   "file_extension": ".py",
   "mimetype": "text/x-python",
   "name": "python",
   "nbconvert_exporter": "python",
   "pygments_lexer": "ipython3",
   "version": "3.9.7"
  }
 },
 "nbformat": 4,
 "nbformat_minor": 5
}
